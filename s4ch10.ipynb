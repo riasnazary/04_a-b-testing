{
 "cells": [
  {
   "cell_type": "markdown",
   "id": "297af0ef-2d5b-412b-b051-dd02da159e9c",
   "metadata": {},
   "source": [
    "# s4ch10\n",
    "## A/B Testing: Improving UX Experience\n",
    "\n",
    "Explore the Data from the Experiment\n",
    "- Connect\n",
    "- Learn \n",
    "- Help\n",
    "- Services\n",
    "\n",
    "The metrics that were deemed more relevant to track were the following:\n",
    "- **Click-through rate for the homepage**. Selected as a measure of the initial ability of the category title to attract users.\n",
    "- **Drop-off rate for the category pages.** Percentage of users who leave the site from a given page, selected as a measure of the ability of the category page to meet user expectations.\n",
    "- **Homepage-return rate for the category pages**. percentage of users who navigated from the library homepage to the category page, then returned back to the homepage. This sequence of actions provides clues as to whether a user discovered the desired option on the category page; if not, the user would likely then return to the homepage to continue navigation. Homepage-return rate was therefore selected as a measure of the ability of the category page to meet user expectations.\n",
    "\n",
    "It was decided that for a version to be considered superior, a min increase in click-through rate of 40% had to be detected.\n",
    "When the variations from the original website are very stark, a conservative approach is to the test variables in this case study were largely non-disruptive, 100% of website visitors were included\n",
    "\n",
    "Currently, the CTR for Interact sits at around 2%, and the page has around 1650 visitors every day. The desired Statistical Significance was 90%. With these numbers, a power calculator like this one can be used to decide on the length of the test. The length of the experiment was established at 21 days:\n",
    "```\n",
    "[from A/B tasty]\n",
    "\n",
    "How many users do you need?\n",
    "- conversion rate 2%\n",
    "- min detected effect 30%\n",
    "- statistical significance 90%\n",
    "- (statistical power 80%)\n",
    "- req number of tested visitors per variation 7,057\n",
    "\n",
    "How long should your test run?\n",
    "- avg daily visitor 1650\n",
    "- no of variations 5 \n",
    "- req duration in days 21\n",
    "```\n",
    "The test ran between 29.05.13-18.06.13.\n",
    "\n",
    "Attached at the bottom of this lesson, you will find the data that was extracted from crazyegg, a service that tracks traffic to websites and provides insights and well structured data."
   ]
  },
  {
   "cell_type": "markdown",
   "id": "0f37db71-9dee-43f7-98ef-e789f87ac221",
   "metadata": {},
   "source": [
    "Explore the data and tackle these questions:\n",
    "- What was the click-through rate for each version?\n",
    "- Which version was the winner?\n",
    "- Do the results seem conclusive?\n",
    "In the next lesson we will perform the significance test that will tell us whether the results are statistically significant."
   ]
  },
  {
   "cell_type": "code",
   "execution_count": null,
   "id": "2a706c75-203c-42fa-96f1-f6de8b018d29",
   "metadata": {},
   "outputs": [],
   "source": [
    "# prep"
   ]
  },
  {
   "cell_type": "code",
   "execution_count": 158,
   "id": "9e85ca83-8cbe-4709-a381-483a87aebd1b",
   "metadata": {},
   "outputs": [],
   "source": [
    "# import libs\n",
    "import pandas as pd\n",
    "import matplotlib.pyplot as plt\n",
    "import numpy as np\n",
    "import scipy.stats as stats\n",
    "import math\n",
    "from scipy.stats import ttest_1samp\n",
    "\n",
    "# pd.options.display.float_format = '{:.2f}'.format"
   ]
  },
  {
   "cell_type": "code",
   "execution_count": 159,
   "id": "d575bff6-aef3-4895-aad8-7bce9008fcf8",
   "metadata": {},
   "outputs": [],
   "source": [
    "# load cvs\n",
    "path = '/Users/riasnazary/data/CrazyEgg/'\n",
    "interact = pd.read_csv(path + 'hp_v1_interact/v1-interact.csv')\n",
    "connect = pd.read_csv(path + 'hp_v2_connect/v2_connect.csv')\n",
    "learn = pd.read_csv(path + 'hp_v3_learn/v3_learn.csv')\n",
    "help1 = pd.read_csv(path + 'hp_v4_help/v4_help.csv')\n",
    "services = pd.read_csv(path + 'hp_v5_services/v5_services.csv')"
   ]
  },
  {
   "cell_type": "markdown",
   "id": "3824f6cd-9bc4-4e25-a544-549fe569cf81",
   "metadata": {},
   "source": [
    "### What was the click-through rate for each version?"
   ]
  },
  {
   "cell_type": "code",
   "execution_count": 160,
   "id": "646ec07b-231d-469a-81d1-3bdec02eb853",
   "metadata": {},
   "outputs": [],
   "source": [
    "# 100 * amount clicks / amount impression"
   ]
  },
  {
   "cell_type": "code",
   "execution_count": 161,
   "id": "05c44d60-6607-49b1-913c-035eb98c78bb",
   "metadata": {
    "tags": []
   },
   "outputs": [],
   "source": [
    "# changing col name of 'no. cliks' to 'click'\n",
    "interact.rename(columns={'No. clicks': 'clicks'}, inplace=True)\n",
    "connect.rename(columns={'No. clicks': 'clicks'}, inplace=True)\n",
    "learn.rename(columns={'No. clicks': 'clicks'}, inplace=True)\n",
    "help1.rename(columns={'No. clicks': 'clicks'}, inplace=True)\n",
    "services.rename(columns={'No. clicks': 'clicks'}, inplace=True)"
   ]
  },
  {
   "cell_type": "code",
   "execution_count": 163,
   "id": "10227573-137c-44ae-8768-28bc670771fe",
   "metadata": {
    "tags": []
   },
   "outputs": [
    {
     "data": {
      "text/plain": [
       "('created 5-29-2013   •   20 days 4 hours 21 mins   •   10283 visits, 3714 clicks',\n",
       " 'created 5-29-2013   •   20 days 7 hours 34 mins   •   2742 visits, 1587 clicks',\n",
       " 'created 5-29-2013   •   20 days 12 hours 21 mins   •   2747 visits, 1652 clicks',\n",
       " 'created 5-29-2013   •   20 days 4 hours 59 mins   •   3180 visits, 1717 clicks',\n",
       " 'created 5-29-2013   •   20 days 4 hours 59 mins   •   2064 visits, 1348 clicks')"
      ]
     },
     "execution_count": 163,
     "metadata": {},
     "output_type": "execute_result"
    }
   ],
   "source": [
    "# show visits and clicks\n",
    "pd.set_option('display.max_colwidth', None)\n",
    "(\n",
    "    interact.iat[1,5],\n",
    "    connect.iat[1,5],\n",
    "    learn.iat[1,5],\n",
    "    help1.iat[1,5],\n",
    "    services.iat[1,5],\n",
    ")"
   ]
  },
  {
   "cell_type": "code",
   "execution_count": null,
   "id": "c918ee0b-4195-471f-a516-5cac70e66061",
   "metadata": {
    "tags": []
   },
   "outputs": [],
   "source": [
    "c = (\n",
    "connect\n",
    "    .query('Name == \"CONNECT\"')\n",
    "    .groupby('clicks')\n",
    "    .agg('clicks')\n",
    "    .count()\n",
    "    .sum()\n",
    ")\n",
    "# print(\"{:.2f}\".format(round(c*100/2742, 2)))\n",
    "# t*100/2742"
   ]
  },
  {
   "cell_type": "code",
   "execution_count": 193,
   "id": "56652eef-0f1a-4b16-a4c8-66926d4bedf2",
   "metadata": {},
   "outputs": [
    {
     "name": "stdout",
     "output_type": "stream",
     "text": [
      "0.41\n",
      "1.93\n",
      "0.76\n",
      "1.19\n",
      "2.18\n"
     ]
    }
   ],
   "source": [
    "# ctr\n",
    "ctr = (\n",
    "    interact.query('Name == \"INTERACT\"').agg('clicks').sum() * 100 / 10283,\n",
    "    connect.query('Name == \"CONNECT\"').agg('clicks').sum() * 100 / 2742,\n",
    "    learn.query('Name == \"LEARN\"').agg('clicks').sum() * 100 / 2747,\n",
    "    help1.query('Name == \"HELP\"').agg('clicks').sum() * 100 / 3180,\n",
    "    services.query('Name == \"SERVICES\"').agg('clicks').sum() * 100 / 2064,\n",
    ")\n",
    "for i in ctr:\n",
    "    print(\"{:.2f}\".format(round(i, 2)))\n",
    "\n",
    "# interact 0.41 %\n",
    "# connect 1.93 %\n",
    "# learn 0.76 %\n",
    "# help 1.19 % \n",
    "# services 2.18 %"
   ]
  },
  {
   "cell_type": "code",
   "execution_count": null,
   "id": "da1360c3-2f11-42e2-9333-45759c06e98b",
   "metadata": {},
   "outputs": [],
   "source": []
  },
  {
   "cell_type": "markdown",
   "id": "9dd2e3ca-295d-4e04-b23c-d79e721bb49c",
   "metadata": {},
   "source": [
    "### Which version was the winner?"
   ]
  },
  {
   "cell_type": "code",
   "execution_count": null,
   "id": "d836f344-977c-487e-acfa-8845e005396d",
   "metadata": {},
   "outputs": [],
   "source": [
    "# v5 services with 0.05% ctr"
   ]
  },
  {
   "cell_type": "markdown",
   "id": "198b6ffe-74c2-4c00-8da9-7c5c821679d4",
   "metadata": {},
   "source": [
    "### Do the results seem conclusive?"
   ]
  },
  {
   "cell_type": "code",
   "execution_count": null,
   "id": "759ef4e1-b314-4531-b8c3-3b142999753a",
   "metadata": {},
   "outputs": [],
   "source": [
    "# in a way yes, since the majority was pointing out that \"interact\" was not helpful in terms of a click name"
   ]
  }
 ],
 "metadata": {
  "kernelspec": {
   "display_name": "Python 3",
   "language": "python",
   "name": "python3"
  },
  "language_info": {
   "codemirror_mode": {
    "name": "ipython",
    "version": 3
   },
   "file_extension": ".py",
   "mimetype": "text/x-python",
   "name": "python",
   "nbconvert_exporter": "python",
   "pygments_lexer": "ipython3",
   "version": "3.8.8"
  }
 },
 "nbformat": 4,
 "nbformat_minor": 5
}
