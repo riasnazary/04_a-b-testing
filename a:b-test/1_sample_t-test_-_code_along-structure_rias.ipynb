{
 "cells": [
  {
   "cell_type": "code",
   "execution_count": 2,
   "metadata": {},
   "outputs": [],
   "source": [
    "from scipy import stats\n",
    "import numpy as np\n",
    "import pandas as pd"
   ]
  },
  {
   "cell_type": "markdown",
   "metadata": {},
   "source": [
    "## Testing means (with 1 sample)\n",
    "\n",
    "Are squirrels starving? :("
   ]
  },
  {
   "cell_type": "code",
   "execution_count": 3,
   "metadata": {},
   "outputs": [],
   "source": [
    "# here's the sample we took:\n",
    "squirrels = pd.Series([1.3, 0.47, 1.5, 1.66, 2.43, 1.29, 0.94, 0.06, 1.33, 0.76, 0.01, 0.76, 0.12, 2.3, 1.24, 1.8, 2.66, 0.01, \n",
    "                       0.82, 1.62, 0.7, 0.86, 0.11, 0.33, 0.08, 0.42, 0.59, 0.12, 0.02, 0.55, 0.16, 1.25, 0.12, 0.74, 0.76, \n",
    "                       1.04, 0.09,0.21, 0.4, 0.01, 0.91, 0.04, 0.6, 6.44, 1.61, 0.13, 2.08, 0.9, 0.49, 0.98, 0.67, 0.17, 2.16, \n",
    "                       1.37, 0.08, 0.02, 0.03, 0.54, 0.63, 1.03, 0.73, 2.02])\n",
    "\n",
    "samp_size = len(squirrels)"
   ]
  },
  {
   "cell_type": "code",
   "execution_count": 4,
   "metadata": {},
   "outputs": [
    {
     "data": {
      "text/plain": [
       "0.8914516129032257"
      ]
     },
     "execution_count": 4,
     "metadata": {},
     "output_type": "execute_result"
    }
   ],
   "source": [
    "# Zoological registers say that squirrels in that area weight on average 1kg\n",
    "# The mean of our sample, however, is:\n",
    "squirrels_mean = squirrels.mean()\n",
    "squirrels_mean"
   ]
  },
  {
   "cell_type": "code",
   "execution_count": 6,
   "metadata": {},
   "outputs": [
    {
     "data": {
      "text/plain": [
       "0.9894701201281577"
      ]
     },
     "execution_count": 6,
     "metadata": {},
     "output_type": "execute_result"
    }
   ],
   "source": [
    "# std\n",
    "np.std(squirrels)\n",
    "# 0.989"
   ]
  },
  {
   "cell_type": "code",
   "execution_count": 4,
   "metadata": {},
   "outputs": [
    {
     "data": {
      "text/plain": [
       "0.12566283091916977"
      ]
     },
     "execution_count": 4,
     "metadata": {},
     "output_type": "execute_result"
    }
   ],
   "source": [
    "# Is the mean of our sample smaller than 1kg due to chance (H0), or because the population\n",
    "# of squirrels from where the sample comes has, in fact, a different mean than 1kg (H1)?\n",
    "\n",
    "# The Standard Error of the Mean will tell us how far should we expect the mean of our sample to be \n",
    "# from the true mean of the population. Let's compute it:\n",
    "\n",
    "np.std(squirrels)/np.sqrt(samp_size)\n",
    "\n",
    "# Read more about the Standard Error of the Mean in page 171 of OpenIntro Statistics.\n"
   ]
  },
  {
   "cell_type": "code",
   "execution_count": 5,
   "metadata": {},
   "outputs": [
    {
     "data": {
      "text/plain": [
       "0.12566283091916977"
      ]
     },
     "execution_count": 5,
     "metadata": {},
     "output_type": "execute_result"
    }
   ],
   "source": [
    "#Standard error using scipy\n",
    "sem_squirrels = stats.sem(squirrels, ddof=0)\n",
    "sem_squirrels"
   ]
  },
  {
   "cell_type": "code",
   "execution_count": 6,
   "metadata": {
    "scrolled": true
   },
   "outputs": [
    {
     "data": {
      "text/plain": [
       "1.1448289468392998"
      ]
     },
     "execution_count": 6,
     "metadata": {},
     "output_type": "execute_result"
    }
   ],
   "source": [
    "squirrels_mean + 2 * stats.sem(squirrels, ddof=1)"
   ]
  },
  {
   "cell_type": "code",
   "execution_count": 7,
   "metadata": {},
   "outputs": [
    {
     "data": {
      "text/plain": [
       "0.6380742789671516"
      ]
     },
     "execution_count": 7,
     "metadata": {},
     "output_type": "execute_result"
    }
   ],
   "source": [
    "squirrels_mean - 2 * stats.sem(squirrels, ddof=1)"
   ]
  },
  {
   "cell_type": "code",
   "execution_count": 8,
   "metadata": {},
   "outputs": [],
   "source": [
    "# That still doesn't answer the question: Are squirrels starving?\n",
    "# We can rephrase this question in mathematical terms:\n",
    "# What's the probability that the mean of our sample (0.89) comes from a population with mean = 1?\n",
    "# Or, in other words: is there a statistically significant difference between the mean of our sample \n",
    "# and the reference of 1kg?\n",
    "\n",
    "# The Null Hypothesis (H0) will be: mean(population) = 1\n",
    "# The Alternative Hypothesis (H1 or HA) will be mean (population) != 1.\n",
    "\n",
    "# (If you're wondering why we don't test for just mean < 1: having overweight squirrels is totally possible,\n",
    "# and we had to decide which test to use (1-tailed or 2-tailed) before taking the sample.)\n",
    "\n",
    "# We test a difference between 1 sample and 1 single value with a 1-sample t-test.\n",
    "# We can do the t-test with a single python function: scipy.stats.ttest_1samp. \n",
    "# But first, let's unfold the underlying process.\n",
    "\n",
    "# The Central Limit Theorem tells us that no matter the true underlying distribution of the population,\n",
    "# if we take multiple samples of a fixed size and we plot the means of these samples, they will form a \n",
    "# normal distribution. This distribution is called the \"Sample distribution of the sample means\".\n",
    "\n",
    "# The \"Sample distribution of the sample mean\" has these 3 properties:\n",
    "    # 1) its mean is equal to the mean of the population (we're assuming it's 1)\n",
    "    # 2) its standard deviation is equal to the standard error of our estimate (we computed it above)\n",
    "    # 3) it resembles a normal distribution."
   ]
  },
  {
   "cell_type": "code",
   "execution_count": 9,
   "metadata": {},
   "outputs": [],
   "source": [
    "# Simulate the \"Sample distribution of the sample means\"\n",
    "# normal\n",
    "# mean = 1\n",
    "# std = sem_squirrels"
   ]
  },
  {
   "cell_type": "code",
   "execution_count": 10,
   "metadata": {},
   "outputs": [],
   "source": [
    "sampl_dist_sampl_means = np.random.normal(loc=1, # mean\n",
    "                                          scale = sem_squirrels, #std\n",
    "                                          size = 1000000\n",
    "                                         )"
   ]
  },
  {
   "cell_type": "code",
   "execution_count": 11,
   "metadata": {},
   "outputs": [
    {
     "data": {
      "image/png": "[encoded data removed]",
      "text/plain": [
       "<Figure size 432x288 with 1 Axes>"
      ]
     },
     "metadata": {
      "needs_background": "light"
     },
     "output_type": "display_data"
    }
   ],
   "source": [
    "sampl_dist_sampl_means = pd.Series(sampl_dist_sampl_means)\n",
    "sampl_dist_sampl_means.hist(bins=30);"
   ]
  },
  {
   "cell_type": "markdown",
   "metadata": {},
   "source": [
    "The **z score** is the number of standard deviations that a number is away from the mean of a normal distribution.\n",
    "\n",
    "Let's find the z score for our sample."
   ]
  },
  {
   "cell_type": "code",
   "execution_count": 12,
   "metadata": {},
   "outputs": [
    {
     "data": {
      "text/plain": [
       "0.8638066348083147"
      ]
     },
     "execution_count": 12,
     "metadata": {},
     "output_type": "execute_result"
    }
   ],
   "source": [
    "z_score = (1 - squirrels_mean) / sem_squirrels\n",
    "z_score"
   ]
  },
  {
   "cell_type": "markdown",
   "metadata": {},
   "source": [
    "Our z score is `0.86`. To find the p value for that score, we can use the cumulative distribution function fot the normal distribution. We'll have to double that value, since we want to look at both extremes of the distribution."
   ]
  },
  {
   "cell_type": "code",
   "execution_count": 19,
   "metadata": {
    "scrolled": true
   },
   "outputs": [
    {
     "data": {
      "text/plain": [
       "0.3876941224873198"
      ]
     },
     "execution_count": 19,
     "metadata": {},
     "output_type": "execute_result"
    }
   ],
   "source": [
    "# confidence level = alpha = 0.99\n",
    "# reject the null with p < 0.01\n",
    "stats.norm.cdf(-z_score)*2"
   ]
  },
  {
   "cell_type": "markdown",
   "metadata": {},
   "source": [
    "We can also look for the p-value in a t distribution with a n-1 degrees of freedom. The difference is neglegible."
   ]
  },
  {
   "cell_type": "code",
   "execution_count": 20,
   "metadata": {},
   "outputs": [
    {
     "data": {
      "text/plain": [
       "0.4101239415999903"
      ]
     },
     "execution_count": 20,
     "metadata": {},
     "output_type": "execute_result"
    }
   ],
   "source": [
    "stats.t.cdf(-z_score, df = 10-1)*2"
   ]
  },
  {
   "cell_type": "markdown",
   "metadata": {},
   "source": [
    "## Using scipy's ttest_1samp\n",
    "\n",
    "Above, we manually performed a z test, which is almost identical to a t test for big samples. Read more about the t-distribution here: https://en.wikipedia.org/wiki/Student%27s_t-distribution"
   ]
  },
  {
   "cell_type": "code",
   "execution_count": 15,
   "metadata": {
    "scrolled": true
   },
   "outputs": [],
   "source": [
    "from scipy.stats import ttest_1samp"
   ]
  },
  {
   "cell_type": "code",
   "execution_count": 16,
   "metadata": {
    "scrolled": true
   },
   "outputs": [
    {
     "data": {
      "text/plain": [
       "0.39490229955149336"
      ]
     },
     "execution_count": 16,
     "metadata": {},
     "output_type": "execute_result"
    }
   ],
   "source": [
    "tscore, pvalue = ttest_1samp(a = squirrels, popmean= 1)\n",
    "pvalue"
   ]
  },
  {
   "cell_type": "code",
   "execution_count": 17,
   "metadata": {},
   "outputs": [],
   "source": [
    "# pvalue > 0.01 --> fail to reject the null\n",
    "# we can't be sure that squirrels are starving\n",
    "# we can't disprove that the mean of the population of squirrels = 1"
   ]
  },
  {
   "cell_type": "markdown",
   "metadata": {},
   "source": [
    "### Your turn:\n",
    "\n",
    "45 WBS CODING SCHOOL students took an IQ test and their result was 130. The average IQ is 100. Test whether or not WBSCS students are different from the regular population."
   ]
  },
  {
   "cell_type": "code",
   "execution_count": 18,
   "metadata": {},
   "outputs": [],
   "source": [
    "# H0: WBSCS students have the same IQ as the general population = 100. The observed difference is due to chance.\n",
    "\n",
    "# H1: WBSCS students have a higher / different IQ than the general population.\n",
    "#                           higher --> 1 tail\n",
    "#                           different --> 2 tails"
   ]
  },
  {
   "cell_type": "code",
   "execution_count": 14,
   "metadata": {},
   "outputs": [],
   "source": [
    "np.random.seed(42)\n",
    "np.arange(40, 210)\n",
    "pop = pd.Series(np.random.choice(np.arange(40, 210), size=10000))\n",
    "samp_size = 45\n",
    "wbs_students = pop.sample(samp_size, replace=True)\n",
    "wbs_students = wbs_students+12"
   ]
  },
  {
   "cell_type": "code",
   "execution_count": 8,
   "metadata": {},
   "outputs": [
    {
     "data": {
      "text/plain": [
       "130.0222222222222"
      ]
     },
     "execution_count": 8,
     "metadata": {},
     "output_type": "execute_result"
    }
   ],
   "source": [
    "np.mean(wbs_students)"
   ]
  },
  {
   "cell_type": "code",
   "execution_count": 324,
   "metadata": {},
   "outputs": [
    {
     "name": "stdout",
     "output_type": "stream",
     "text": [
      "[172, 155, 144, 112, 79, 132, 126, 184, 145, 155, 65, 73, 56, 156, 117, 213, 143, 86, 86, 197, 54, 195, 186, 108, 76, 191, 54, 115, 106, 173, 91, 95, 144, 94, 135, 116, 182, 144, 127, 216, 71, 200, 182, 71, 129]\n"
     ]
    }
   ],
   "source": [
    "print(list(wbs_students))"
   ]
  },
  {
   "cell_type": "code",
   "execution_count": 11,
   "metadata": {},
   "outputs": [],
   "source": [
    "# your code here"
   ]
  },
  {
   "cell_type": "code",
   "execution_count": 58,
   "metadata": {},
   "outputs": [],
   "source": [
    "# import lib\n",
    "import matplotlib.pyplot as plt\n",
    "import numpy as np\n",
    "import scipy.stats as stats\n",
    "import math\n",
    "from scipy.stats import ttest_1samp"
   ]
  },
  {
   "cell_type": "code",
   "execution_count": 35,
   "metadata": {},
   "outputs": [
    {
     "data": {
      "text/plain": [
       "count    10000.000000\n",
       "mean       125.198900\n",
       "std         49.065488\n",
       "min         40.000000\n",
       "25%         83.000000\n",
       "50%        125.000000\n",
       "75%        168.000000\n",
       "max        209.000000\n",
       "dtype: float64"
      ]
     },
     "execution_count": 35,
     "metadata": {},
     "output_type": "execute_result"
    }
   ],
   "source": [
    "pop.describe()"
   ]
  },
  {
   "cell_type": "code",
   "execution_count": 37,
   "metadata": {},
   "outputs": [
    {
     "data": {
      "text/plain": [
       "count     45.000000\n",
       "mean     130.022222\n",
       "std       46.837480\n",
       "min       54.000000\n",
       "25%       91.000000\n",
       "50%      129.000000\n",
       "75%      172.000000\n",
       "max      216.000000\n",
       "dtype: float64"
      ]
     },
     "execution_count": 37,
     "metadata": {},
     "output_type": "execute_result"
    }
   ],
   "source": [
    "wbs_students.describe()"
   ]
  },
  {
   "cell_type": "code",
   "execution_count": null,
   "metadata": {},
   "outputs": [],
   "source": [
    "# std error of sample\n",
    "sem_wbs = stats.sem(wbs_students, ddof=0)\n",
    "# alt. std error of sample\n",
    "ase = np.std(wbs_students)/np.sqrt(samp_size)\n",
    "# sem_wbs 6.904"
   ]
  },
  {
   "cell_type": "code",
   "execution_count": 16,
   "metadata": {},
   "outputs": [],
   "source": [
    "# mean of sample\n",
    "mos = wbs_mean = wbs_students.mean()\n",
    "# 130.02 "
   ]
  },
  {
   "cell_type": "code",
   "execution_count": 65,
   "metadata": {},
   "outputs": [],
   "source": [
    "# std of sample\n",
    "sos = wbs_students.std()\n",
    "# 46.84 "
   ]
  },
  {
   "cell_type": "code",
   "execution_count": null,
   "metadata": {},
   "outputs": [],
   "source": [
    "# tails right direction\n",
    "otr = wbs_mean + 1 * stats.sem(wbs_students, ddof=1)\n",
    "# 137.00434144038624\n",
    "ttr = wbs_mean + 2 * stats.sem(wbs_students, ddof=1)\n",
    "# 143.98646065855027"
   ]
  },
  {
   "cell_type": "code",
   "execution_count": null,
   "metadata": {},
   "outputs": [],
   "source": [
    "# tails left direction\n",
    "otl = wbs_mean - 1* stats.sem(wbs_students, ddof=1)\n",
    "# 123.04010300405818\n",
    "ttl = wbs_mean - 2* stats.sem(wbs_students, ddof=1)\n",
    "# 116.05798378589415"
   ]
  },
  {
   "cell_type": "code",
   "execution_count": 28,
   "metadata": {},
   "outputs": [],
   "source": [
    "sampl_dist_sampl_means = np.random.normal(loc=1, # mean\n",
    "                                          scale = sem_wbs, #std\n",
    "                                          size = 10000\n",
    "                                         )"
   ]
  },
  {
   "cell_type": "code",
   "execution_count": 49,
   "metadata": {},
   "outputs": [
    {
     "data": {
      "image/png": "[encoded data removed]",
      "text/plain": [
       "<Figure size 432x288 with 1 Axes>"
      ]
     },
     "metadata": {
      "needs_background": "light"
     },
     "output_type": "display_data"
    }
   ],
   "source": [
    "sampl_dist_sampl_means = pd.Series(sampl_dist_sampl_means)\n",
    "sampl_dist_sampl_means.hist(bins=30);"
   ]
  },
  {
   "cell_type": "code",
   "execution_count": 47,
   "metadata": {},
   "outputs": [
    {
     "data": {
      "text/plain": [
       "-18.687756917117827"
      ]
     },
     "execution_count": 47,
     "metadata": {},
     "output_type": "execute_result"
    }
   ],
   "source": [
    "z_score = (1 - wbs_mean) / sem_wbs\n",
    "z_score"
   ]
  },
  {
   "cell_type": "code",
   "execution_count": 55,
   "metadata": {},
   "outputs": [
    {
     "data": {
      "text/plain": [
       "2.0"
      ]
     },
     "execution_count": 55,
     "metadata": {},
     "output_type": "execute_result"
    }
   ],
   "source": [
    "stats.norm.cdf(-z_score)*2"
   ]
  },
  {
   "cell_type": "code",
   "execution_count": 73,
   "metadata": {},
   "outputs": [
    {
     "data": {
      "text/plain": [
       "2.0"
      ]
     },
     "execution_count": 73,
     "metadata": {},
     "output_type": "execute_result"
    }
   ],
   "source": [
    "stats.t.cdf(-z_score, df = 45-1)*2"
   ]
  },
  {
   "cell_type": "code",
   "execution_count": 68,
   "metadata": {},
   "outputs": [
    {
     "data": {
      "text/plain": [
       "9.338735146790408e-05"
      ]
     },
     "execution_count": 68,
     "metadata": {},
     "output_type": "execute_result"
    }
   ],
   "source": [
    "tscore, pvalue = ttest_1samp(a = wbs_students, popmean= 100)\n",
    "pvalue\n",
    "# 0.0000933 p-Value"
   ]
  },
  {
   "cell_type": "code",
   "execution_count": null,
   "metadata": {},
   "outputs": [],
   "source": [
    "# plotting normal distribution of pop and sample"
   ]
  },
  {
   "cell_type": "code",
   "execution_count": 24,
   "metadata": {},
   "outputs": [
    {
     "data": {
      "image/png": "[encoded data removed]",
      "text/plain": [
       "<Figure size 432x288 with 1 Axes>"
      ]
     },
     "metadata": {
      "needs_background": "light"
     },
     "output_type": "display_data"
    }
   ],
   "source": [
    "y = pop\n",
    "mu = np.mean(y)\n",
    "variance = np.var(y)\n",
    "sigma = math.sqrt(variance)\n",
    "x = np.linspace(mu - 3*sigma, mu + 3*sigma, 100)\n",
    "plt.plot(x, stats.norm.pdf(x, mu, sigma))\n",
    "plt.show()"
   ]
  },
  {
   "cell_type": "code",
   "execution_count": 72,
   "metadata": {},
   "outputs": [
    {
     "data": {
      "image/png": "[encoded data removed]",
      "text/plain": [
       "<Figure size 432x288 with 1 Axes>"
      ]
     },
     "metadata": {
      "needs_background": "light"
     },
     "output_type": "display_data"
    }
   ],
   "source": [
    "z = wbs_students\n",
    "mu = np.mean(z)\n",
    "variance = np.var(z)\n",
    "sigma = math.sqrt(variance)\n",
    "x = np.linspace(mu - 3*sigma, mu + 3*sigma, 100)\n",
    "plt.plot(x, stats.norm.pdf(x, mu, sigma))\n",
    "# plt.plot(1 - wbs_students.std((color \"yellow\", styletype = --)))\n",
    "plt.show()"
   ]
  },
  {
   "cell_type": "code",
   "execution_count": null,
   "metadata": {},
   "outputs": [],
   "source": []
  }
 ],
 "metadata": {
  "kernelspec": {
   "display_name": "Python 3",
   "language": "python",
   "name": "python3"
  },
  "language_info": {
   "codemirror_mode": {
    "name": "ipython",
    "version": 3
   },
   "file_extension": ".py",
   "mimetype": "text/x-python",
   "name": "python",
   "nbconvert_exporter": "python",
   "pygments_lexer": "ipython3",
   "version": "3.8.8"
  },
  "toc": {
   "base_numbering": 1,
   "nav_menu": {},
   "number_sections": true,
   "sideBar": true,
   "skip_h1_title": false,
   "title_cell": "Table of Contents",
   "title_sidebar": "Contents",
   "toc_cell": false,
   "toc_position": {},
   "toc_section_display": true,
   "toc_window_display": false
  },
  "varInspector": {
   "cols": {
    "lenName": 16,
    "lenType": 16,
    "lenVar": 40
   },
   "kernels_config": {
    "python": {
     "delete_cmd_postfix": "",
     "delete_cmd_prefix": "del ",
     "library": "var_list.py",
     "varRefreshCmd": "print(var_dic_list())"
    },
    "r": {
     "delete_cmd_postfix": ") ",
     "delete_cmd_prefix": "rm(",
     "library": "var_list.r",
     "varRefreshCmd": "cat(var_dic_list()) "
    }
   },
   "types_to_exclude": [
    "module",
    "function",
    "builtin_function_or_method",
    "instance",
    "_Feature"
   ],
   "window_display": false
  }
 },
 "nbformat": 4,
 "nbformat_minor": 4
}
